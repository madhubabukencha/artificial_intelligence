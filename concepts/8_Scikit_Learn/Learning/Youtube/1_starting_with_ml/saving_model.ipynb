{
 "cells": [
  {
   "cell_type": "markdown",
   "metadata": {},
   "source": [
    "<center><font size=6 color=\"#00416d\">Saving Model</font></center>"
   ]
  },
  {
   "cell_type": "markdown",
   "metadata": {},
   "source": [
    "## Saving and Opening a Model\n",
    "from sklearn.externals import joblib\n",
    "\n",
    "<strong>Saving a model</strong><br>\n",
    "filename = \"model.sav\"\n",
    "joblib.dump(<ML_Model_Name>, filename)\n",
    "\n",
    "<strong> Opening a saved model</strong><br>\n",
    "ML_Model_Name = joblib.load(filename)"
   ]
  },
  {
   "cell_type": "code",
   "execution_count": null,
   "metadata": {},
   "outputs": [],
   "source": []
  }
 ],
 "metadata": {
  "kernelspec": {
   "display_name": "Python 3",
   "language": "python",
   "name": "python3"
  },
  "language_info": {
   "codemirror_mode": {
    "name": "ipython",
    "version": 3
   },
   "file_extension": ".py",
   "mimetype": "text/x-python",
   "name": "python",
   "nbconvert_exporter": "python",
   "pygments_lexer": "ipython3",
   "version": "3.8.3"
  }
 },
 "nbformat": 4,
 "nbformat_minor": 4
}
